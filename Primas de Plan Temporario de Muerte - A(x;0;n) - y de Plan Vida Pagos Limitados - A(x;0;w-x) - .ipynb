{
 "cells": [
  {
   "cell_type": "code",
   "execution_count": 1,
   "metadata": {},
   "outputs": [],
   "source": [
    "import numpy as np, pandas as pd"
   ]
  },
  {
   "cell_type": "code",
   "execution_count": 2,
   "metadata": {},
   "outputs": [],
   "source": [
    "tabla = pd.read_csv(\"C:\\\\Users\\\\Franco\\\\Desktop\\\\Python\\\\GITHUB\\\\Tabla CSO80 masculino.csv\")"
   ]
  },
  {
   "cell_type": "code",
   "execution_count": 3,
   "metadata": {},
   "outputs": [
    {
     "data": {
      "text/html": [
       "<div>\n",
       "<style scoped>\n",
       "    .dataframe tbody tr th:only-of-type {\n",
       "        vertical-align: middle;\n",
       "    }\n",
       "\n",
       "    .dataframe tbody tr th {\n",
       "        vertical-align: top;\n",
       "    }\n",
       "\n",
       "    .dataframe thead th {\n",
       "        text-align: right;\n",
       "    }\n",
       "</style>\n",
       "<table border=\"1\" class=\"dataframe\">\n",
       "  <thead>\n",
       "    <tr style=\"text-align: right;\">\n",
       "      <th></th>\n",
       "      <th>x</th>\n",
       "      <th>l(x)</th>\n",
       "      <th>d(x)</th>\n",
       "      <th>D(x)</th>\n",
       "      <th>N(x)</th>\n",
       "      <th>S(x)</th>\n",
       "      <th>C(x)</th>\n",
       "      <th>M(x)</th>\n",
       "      <th>R(x)</th>\n",
       "    </tr>\n",
       "  </thead>\n",
       "  <tbody>\n",
       "    <tr>\n",
       "      <td>0</td>\n",
       "      <td>0</td>\n",
       "      <td>10000000</td>\n",
       "      <td>41800</td>\n",
       "      <td>10000000</td>\n",
       "      <td>237830366</td>\n",
       "      <td>5049896161</td>\n",
       "      <td>40192</td>\n",
       "      <td>852677</td>\n",
       "      <td>43603418</td>\n",
       "    </tr>\n",
       "    <tr>\n",
       "      <td>1</td>\n",
       "      <td>1</td>\n",
       "      <td>9958200</td>\n",
       "      <td>10655</td>\n",
       "      <td>9575192</td>\n",
       "      <td>227830366</td>\n",
       "      <td>4812065795</td>\n",
       "      <td>9851</td>\n",
       "      <td>812485</td>\n",
       "      <td>42750741</td>\n",
       "    </tr>\n",
       "    <tr>\n",
       "      <td>2</td>\n",
       "      <td>2</td>\n",
       "      <td>9947545</td>\n",
       "      <td>9848</td>\n",
       "      <td>9197065</td>\n",
       "      <td>218255174</td>\n",
       "      <td>4584235429</td>\n",
       "      <td>8755</td>\n",
       "      <td>802634</td>\n",
       "      <td>41938256</td>\n",
       "    </tr>\n",
       "    <tr>\n",
       "      <td>3</td>\n",
       "      <td>3</td>\n",
       "      <td>9937697</td>\n",
       "      <td>9739</td>\n",
       "      <td>8834576</td>\n",
       "      <td>209058109</td>\n",
       "      <td>4365980255</td>\n",
       "      <td>8325</td>\n",
       "      <td>793879</td>\n",
       "      <td>41135622</td>\n",
       "    </tr>\n",
       "    <tr>\n",
       "      <td>4</td>\n",
       "      <td>4</td>\n",
       "      <td>9927958</td>\n",
       "      <td>9432</td>\n",
       "      <td>8486460</td>\n",
       "      <td>200223533</td>\n",
       "      <td>4156922146</td>\n",
       "      <td>7752</td>\n",
       "      <td>785554</td>\n",
       "      <td>40341743</td>\n",
       "    </tr>\n",
       "    <tr>\n",
       "      <td>...</td>\n",
       "      <td>...</td>\n",
       "      <td>...</td>\n",
       "      <td>...</td>\n",
       "      <td>...</td>\n",
       "      <td>...</td>\n",
       "      <td>...</td>\n",
       "      <td>...</td>\n",
       "      <td>...</td>\n",
       "      <td>...</td>\n",
       "    </tr>\n",
       "    <tr>\n",
       "      <td>95</td>\n",
       "      <td>95</td>\n",
       "      <td>146722</td>\n",
       "      <td>48412</td>\n",
       "      <td>3535</td>\n",
       "      <td>8056</td>\n",
       "      <td>15939</td>\n",
       "      <td>1121</td>\n",
       "      <td>3224</td>\n",
       "      <td>7440</td>\n",
       "    </tr>\n",
       "    <tr>\n",
       "      <td>96</td>\n",
       "      <td>96</td>\n",
       "      <td>98310</td>\n",
       "      <td>37805</td>\n",
       "      <td>2277</td>\n",
       "      <td>4521</td>\n",
       "      <td>7883</td>\n",
       "      <td>842</td>\n",
       "      <td>2103</td>\n",
       "      <td>4216</td>\n",
       "    </tr>\n",
       "    <tr>\n",
       "      <td>97</td>\n",
       "      <td>97</td>\n",
       "      <td>60505</td>\n",
       "      <td>29054</td>\n",
       "      <td>1348</td>\n",
       "      <td>2244</td>\n",
       "      <td>3362</td>\n",
       "      <td>622</td>\n",
       "      <td>1261</td>\n",
       "      <td>2113</td>\n",
       "    </tr>\n",
       "    <tr>\n",
       "      <td>98</td>\n",
       "      <td>98</td>\n",
       "      <td>31451</td>\n",
       "      <td>20694</td>\n",
       "      <td>674</td>\n",
       "      <td>896</td>\n",
       "      <td>1118</td>\n",
       "      <td>426</td>\n",
       "      <td>639</td>\n",
       "      <td>852</td>\n",
       "    </tr>\n",
       "    <tr>\n",
       "      <td>99</td>\n",
       "      <td>99</td>\n",
       "      <td>10757</td>\n",
       "      <td>10757</td>\n",
       "      <td>222</td>\n",
       "      <td>222</td>\n",
       "      <td>222</td>\n",
       "      <td>213</td>\n",
       "      <td>213</td>\n",
       "      <td>213</td>\n",
       "    </tr>\n",
       "  </tbody>\n",
       "</table>\n",
       "<p>100 rows × 9 columns</p>\n",
       "</div>"
      ],
      "text/plain": [
       "     x     l(x)    d(x)      D(x)       N(x)        S(x)    C(x)    M(x)   \\\n",
       "0    0  10000000   41800  10000000  237830366  5049896161   40192  852677   \n",
       "1    1   9958200   10655   9575192  227830366  4812065795    9851  812485   \n",
       "2    2   9947545    9848   9197065  218255174  4584235429    8755  802634   \n",
       "3    3   9937697    9739   8834576  209058109  4365980255    8325  793879   \n",
       "4    4   9927958    9432   8486460  200223533  4156922146    7752  785554   \n",
       "..  ..       ...     ...       ...        ...         ...     ...     ...   \n",
       "95  95    146722   48412      3535       8056       15939    1121    3224   \n",
       "96  96     98310   37805      2277       4521        7883     842    2103   \n",
       "97  97     60505   29054      1348       2244        3362     622    1261   \n",
       "98  98     31451   20694       674        896        1118     426     639   \n",
       "99  99     10757   10757       222        222         222     213     213   \n",
       "\n",
       "       R(x)   \n",
       "0   43603418  \n",
       "1   42750741  \n",
       "2   41938256  \n",
       "3   41135622  \n",
       "4   40341743  \n",
       "..       ...  \n",
       "95      7440  \n",
       "96      4216  \n",
       "97      2113  \n",
       "98       852  \n",
       "99       213  \n",
       "\n",
       "[100 rows x 9 columns]"
      ]
     },
     "execution_count": 3,
     "metadata": {},
     "output_type": "execute_result"
    }
   ],
   "source": [
    "tabla"
   ]
  },
  {
   "cell_type": "markdown",
   "metadata": {},
   "source": [
    "---"
   ]
  },
  {
   "cell_type": "code",
   "execution_count": 4,
   "metadata": {},
   "outputs": [
    {
     "name": "stdout",
     "output_type": "stream",
     "text": [
      "<class 'pandas.core.frame.DataFrame'>\n",
      "RangeIndex: 100 entries, 0 to 99\n",
      "Data columns (total 9 columns):\n",
      "x         100 non-null int64\n",
      " l(x)     100 non-null int64\n",
      " d(x)     100 non-null int64\n",
      " D(x)     100 non-null int64\n",
      " N(x)     100 non-null int64\n",
      " S(x)     100 non-null int64\n",
      " C(x)     100 non-null int64\n",
      " M(x)     100 non-null int64\n",
      " R(x)     100 non-null int64\n",
      "dtypes: int64(9)\n",
      "memory usage: 7.2 KB\n"
     ]
    }
   ],
   "source": [
    "tabla.info()"
   ]
  },
  {
   "cell_type": "code",
   "execution_count": 6,
   "metadata": {},
   "outputs": [],
   "source": [
    "lista_columnas = [\"x\", \"l(x)\", \"d(x)\", \"D(x)\", \"N(x)\", \"S(x)\", \"C(x)\",\\\n",
    "                \"M(x)\", \"R(x)\"]"
   ]
  },
  {
   "cell_type": "code",
   "execution_count": 7,
   "metadata": {},
   "outputs": [],
   "source": [
    "tabla.columns = lista_columnas"
   ]
  },
  {
   "cell_type": "code",
   "execution_count": 11,
   "metadata": {},
   "outputs": [],
   "source": [
    "#Empezamos a definir los tipos de coberturas como funciones."
   ]
  },
  {
   "cell_type": "code",
   "execution_count": 8,
   "metadata": {},
   "outputs": [],
   "source": [
    "#1) Temporario de Muerte A(x;0;n)\n",
    "def primas_tempo_muerte(tabla, x, capital_asegurado, n):\n",
    "    ppu = capital_asegurado * ((tabla.at[x,\"M(x)\"] - tabla.at[x+n,\"M(x)\"] )/ tabla.at[x,\"D(x)\"])\n",
    "    ppa = ppu / ((tabla.at[x,\"N(x)\"] - tabla.at[x+n,\"N(x)\"] )/ tabla.at[x,\"D(x)\"])\n",
    "    print(\"La Prima Pura Única es igual a \" + str(ppu))\n",
    "    print(\"La prima Pura Anual es igual a \" + str(ppa))\n",
    "    lista_primas_naturales = []\n",
    "    for i in range(0,n):       \n",
    "        prima_natural = capital_asegurado * ((tabla.at[x+i,\"M(x)\"] - tabla.at[x+i+1,\"M(x)\"] )/ tabla.at[x+i,\"D(x)\"])\n",
    "        lista_primas_naturales.append(prima_natural)\n",
    "    contador = 0\n",
    "    for elemento in lista_primas_naturales:\n",
    "        print(\"La Prima Natural del año\", str(contador),\"es:\", elemento)\n",
    "        contador += 1 \n",
    "    "
   ]
  },
  {
   "cell_type": "code",
   "execution_count": 9,
   "metadata": {},
   "outputs": [
    {
     "name": "stdout",
     "output_type": "stream",
     "text": [
      "La Prima Pura Única es igual a 10.682343804760263\n",
      "La prima Pura Anual es igual a 2.3172547687019907\n",
      "La Prima Natural del año 0 es: 2.028793063523257\n",
      "La Prima Natural del año 1 es: 2.1538352218567263\n",
      "La Prima Natural del año 2 es: 2.3077927069234234\n",
      "La Prima Natural del año 3 es: 2.4807388449145087\n",
      "La Prima Natural del año 4 es: 2.6828616929569113\n"
     ]
    }
   ],
   "source": [
    "primas_tempo_muerte(tabla, x = 35, capital_asegurado = 1000, n = 5)"
   ]
  },
  {
   "cell_type": "code",
   "execution_count": 10,
   "metadata": {},
   "outputs": [],
   "source": [
    "#2) Vida Pagos Limitados A(x;0;w-x)\n",
    "def primas_vpl(tabla, x, capital_asegurado, n):\n",
    "    ppu = capital_asegurado * (tabla.at[x,\"M(x)\"] / tabla.at[x,\"D(x)\"])\n",
    "    ppa = ppu / ((tabla.at[x,\"N(x)\"] - tabla.at[x+n,\"N(x)\"] )/ tabla.at[x,\"D(x)\"])\n",
    "    print(\"La Prima Pura Única es igual a \" + str(ppu))\n",
    "    print(\"La prima Pura Anual es igual a \" + str(ppa))\n",
    "    lista_primas_naturales = []\n",
    "    for i in range(0,n):       \n",
    "        prima_natural = capital_asegurado * ((tabla.at[x+i,\"M(x)\"] - tabla.at[x+i+1,\"M(x)\"] )/ tabla.at[x+i,\"D(x)\"])\n",
    "        lista_primas_naturales.append(prima_natural)\n",
    "    contador = 0\n",
    "    for elemento in lista_primas_naturales:\n",
    "        print(\"La Prima Natural del año\", str(contador),\"es:\", elemento)\n",
    "        contador += 1 "
   ]
  },
  {
   "cell_type": "code",
   "execution_count": 11,
   "metadata": {},
   "outputs": [
    {
     "name": "stdout",
     "output_type": "stream",
     "text": [
      "La Prima Pura Única es igual a 246.82304725549614\n",
      "La prima Pura Anual es igual a 53.54179698124696\n",
      "La Prima Natural del año 0 es: 2.028793063523257\n",
      "La Prima Natural del año 1 es: 2.1538352218567263\n",
      "La Prima Natural del año 2 es: 2.3077927069234234\n",
      "La Prima Natural del año 3 es: 2.4807388449145087\n",
      "La Prima Natural del año 4 es: 2.6828616929569113\n"
     ]
    }
   ],
   "source": [
    "primas_vpl(tabla, x = 35, capital_asegurado = 1000, n = 5)"
   ]
  }
 ],
 "metadata": {
  "kernelspec": {
   "display_name": "Python 3",
   "language": "python",
   "name": "python3"
  },
  "language_info": {
   "codemirror_mode": {
    "name": "ipython",
    "version": 3
   },
   "file_extension": ".py",
   "mimetype": "text/x-python",
   "name": "python",
   "nbconvert_exporter": "python",
   "pygments_lexer": "ipython3",
   "version": "3.7.4"
  }
 },
 "nbformat": 4,
 "nbformat_minor": 2
}
