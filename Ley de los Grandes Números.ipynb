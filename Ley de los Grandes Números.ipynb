{
 "cells": [
  {
   "cell_type": "code",
   "execution_count": null,
   "metadata": {},
   "outputs": [],
   "source": [
    "#Consigna: Poner a prueba la Ley de los Grandes Números para N números aleatorios de la distribución normal estándar.\n",
    "#Crear un script en Python que cuente cuántas veces cae un número de estos entre -1 y 1 y divide por la cantidad total de observaciones.\n",
    "# Se sabe que E(x) = 68.2% (este nº sale de la campana de Gauss)\n",
    "#Verificar que la media de (x*N) tienda a E(x) conforme se corra el script mientras se incremente N."
   ]
  },
  {
   "cell_type": "code",
   "execution_count": 1,
   "metadata": {},
   "outputs": [
    {
     "name": "stdout",
     "output_type": "stream",
     "text": [
      "La cantidad de números que cayeron dentro del intervalo es:  68233\n",
      "Por lo tanto, E(x) =  0.68233\n"
     ]
    }
   ],
   "source": [
    "import numpy as np\n",
    "from numpy.random import randn\n",
    "\n",
    "n = 100000\n",
    "lista_numeros = []\n",
    "for i in range (n):\n",
    "    num_aleatorio = randn()\n",
    "    lista_numeros.append(num_aleatorio)\n",
    "\n",
    "q_numeros = 0\n",
    "for elemento in lista_numeros:\n",
    "    if ((elemento > -1) and (elemento < 1)):\n",
    "        q_numeros += 1 \n",
    "    else:\n",
    "        q_numeros += 0\n",
    "\n",
    "print(\"La cantidad de números que cayeron dentro del intervalo es: \", q_numeros)\n",
    "print(\"Por lo tanto, E(x) = \", (q_numeros/n))"
   ]
  }
 ],
 "metadata": {
  "kernelspec": {
   "display_name": "Python 3",
   "language": "python",
   "name": "python3"
  },
  "language_info": {
   "codemirror_mode": {
    "name": "ipython",
    "version": 3
   },
   "file_extension": ".py",
   "mimetype": "text/x-python",
   "name": "python",
   "nbconvert_exporter": "python",
   "pygments_lexer": "ipython3",
   "version": "3.7.4"
  }
 },
 "nbformat": 4,
 "nbformat_minor": 2
}
