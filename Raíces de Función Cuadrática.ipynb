{
 "cells": [
  {
   "cell_type": "code",
   "execution_count": 1,
   "metadata": {},
   "outputs": [
    {
     "name": "stdout",
     "output_type": "stream",
     "text": [
      "-----------------------------------------------------------------------------------------------\n",
      "-----------------------------------------------------------------------------------------------\n",
      "Este programa sirve para determinar la cantidad de raíces que tiene una función cuadrática dada\n",
      "-----------------------------------------------------------------------------------------------\n",
      "-----------------------------------------------------------------------------------------------\n",
      "\n",
      "Recordando que la ecuación de una función cuadrática es la siguiente:    Y = a * (x^2) + b * x + c\n",
      "\n",
      "Ingrese el valor de 'a', siendo 'a' el coeficiente que acompaña a x^2: 5\n",
      "Ingrese el valor de 'b', siendo 'b' el coeficiente que acompaña a x: 2\n",
      "Ingrese el valor de 'c', siendo 'c' el término independiente: 3\n",
      "La función cuadrática no posee raíces\n"
     ]
    }
   ],
   "source": [
    "print(\"-----------------------------------------------------------------------------------------------\")\n",
    "print(\"-----------------------------------------------------------------------------------------------\")\n",
    "print(\"Este programa sirve para determinar la cantidad de raíces que tiene una función cuadrática dada\")\n",
    "print(\"-----------------------------------------------------------------------------------------------\")\n",
    "print(\"-----------------------------------------------------------------------------------------------\", end = \"\\n\\n\")\n",
    "\n",
    "print(\"Recordando que la ecuación de una función cuadrática es la siguiente:    Y = a * (x^2) + b * x + c\", end = \"\\n\\n\")\n",
    "\n",
    "a = float(input(\"Ingrese el valor de 'a', siendo 'a' el coeficiente que acompaña a x^2: \"))\n",
    "b = float(input(\"Ingrese el valor de 'b', siendo 'b' el coeficiente que acompaña a x: \"))\n",
    "c = float(input(\"Ingrese el valor de 'c', siendo 'c' el término independiente: \"))\n",
    "\n",
    "discriminante = b*b-4*a*c\n",
    "\n",
    "if discriminante == 0:\n",
    "    raizdoble = (-b)/2*a\n",
    "    print(\"La función cuadrática posee una raíz doble, que es igual a \" + str(raizdoble))\n",
    "    \n",
    "elif discriminante > 0:\n",
    "    raiz1 = (-b + (b*b - 4*a*c)**(1/2))/(2*a)\n",
    "    raiz2 = (-b - (b*b - 4*a*c)**(1/2))/(2*a) \n",
    "    print(\"La función cuadrática posee dos raíces distintas\", end = \"\\n\")\n",
    "    print(\"La primera es igual a \" + str(raiz1))\n",
    "    print(\"La segunda es igual a \" + str(raiz2))\n",
    "\n",
    "else:\n",
    "    print(\"La función cuadrática no posee raíces\")"
   ]
  }
 ],
 "metadata": {
  "kernelspec": {
   "display_name": "Python 3",
   "language": "python",
   "name": "python3"
  },
  "language_info": {
   "codemirror_mode": {
    "name": "ipython",
    "version": 3
   },
   "file_extension": ".py",
   "mimetype": "text/x-python",
   "name": "python",
   "nbconvert_exporter": "python",
   "pygments_lexer": "ipython3",
   "version": "3.7.4"
  }
 },
 "nbformat": 4,
 "nbformat_minor": 2
}
