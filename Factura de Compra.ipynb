{
 "cells": [
  {
   "cell_type": "code",
   "execution_count": 2,
   "metadata": {},
   "outputs": [
    {
     "name": "stdout",
     "output_type": "stream",
     "text": [
      "Elija el producto deseado: \n",
      "\n",
      "Elemento : Código\n",
      "\n",
      "Camisa : 1\n",
      "Cinturon : 2\n",
      "Zapatos : 3\n",
      "Pantalon : 4\n",
      "Calcetines : 5\n",
      "Faldas : 6\n",
      "Gorras : 7\n",
      "Sueter : 8\n",
      "Corbata : 9\n",
      "Chaqueta : 10\n",
      "Ingrese el código seleccionado: 1\n",
      "El precio es: $ 100\n",
      "Ingrese la cantidad que desea comprar: 4\n",
      "-------------------------------------------------------------------------------------------------------------------------\n",
      "Si desea comprar otra cosa, apriete el cero . Si desea finalizar su compra, apriete cualquier otro número: 4\n",
      "\n",
      "------------------------------------\n",
      "Usted debe abonar un total de $ 400\n",
      "------------------------------------\n"
     ]
    }
   ],
   "source": [
    "producto = [\"Camisa\", \"Cinturon\", \"Zapatos\", \"Pantalon\", \"Calcetines\", \"Faldas\", \"Gorras\", \"Sueter\", \"Corbata\", \"Chaqueta\"]\n",
    "codigo = [1,2,3,4,5,6,7,8,9,10]\n",
    "precios = [100, 50, 200, 150, 20, 100, 15, 150, 40, 300]\n",
    "diccio_productos = dict(zip(producto, codigo))\n",
    "diccio_precios = dict(zip(producto, precios))\n",
    "\n",
    "\n",
    "\n",
    "def factura():\n",
    "    print(\"Elija el producto deseado: \")\n",
    "    print(\"\")\n",
    "    print(\"Elemento : Código\")\n",
    "    print(\"\")\n",
    "    for clave in diccio_productos:\n",
    "        print(clave, \":\",diccio_productos [clave] )\n",
    "        \n",
    "    opcion = 0\n",
    "    monto = 0\n",
    "    monto_total = 0\n",
    "    \n",
    "    while opcion == 0:\n",
    "        codigo_seleccionado = int(input(\"Ingrese el código seleccionado: \"))\n",
    "        print(\"El precio es: $\", precios[codigo_seleccionado - 1])\n",
    "        cantidad = int(input(\"Ingrese la cantidad que desea comprar: \"))\n",
    "        monto = cantidad * precios[codigo_seleccionado - 1]\n",
    "        monto_total += monto\n",
    "        print(\"-------------------------------------------------------------------------------------------------------------------------\")\n",
    "        opcion = int(input(\"Si desea comprar otra cosa, apriete el cero . Si desea finalizar su compra, apriete cualquier otro número: \"))\n",
    "    \n",
    "    print(\"\")\n",
    "    print(\"------------------------------------\")\n",
    "    print(\"Usted debe abonar un total de $\", monto_total)\n",
    "    print(\"------------------------------------\")\n",
    "  \n",
    "    \n",
    "factura()"
   ]
  },
  {
   "cell_type": "code",
   "execution_count": null,
   "metadata": {},
   "outputs": [],
   "source": []
  }
 ],
 "metadata": {
  "kernelspec": {
   "display_name": "Python 3",
   "language": "python",
   "name": "python3"
  },
  "language_info": {
   "codemirror_mode": {
    "name": "ipython",
    "version": 3
   },
   "file_extension": ".py",
   "mimetype": "text/x-python",
   "name": "python",
   "nbconvert_exporter": "python",
   "pygments_lexer": "ipython3",
   "version": "3.7.4"
  }
 },
 "nbformat": 4,
 "nbformat_minor": 2
}
