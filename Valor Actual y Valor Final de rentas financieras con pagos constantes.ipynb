{
 "cells": [
  {
   "cell_type": "code",
   "execution_count": 1,
   "metadata": {},
   "outputs": [],
   "source": [
    "#RENTAS CONSTANTES\n",
    "\n",
    "#VALOR ACTUAL\n",
    "    #n = cantidad de pagos.\n",
    "    #i = tasa de interés.\n",
    "\n",
    "#Recordar que el valor actual adelantado me deja a la renta valuada en el mismo momento que efectúa el primer pago.\n",
    "def valor_actual_adelantado_pagos_constantes(cuota, n, i):\n",
    "    valor_actual = cuota * (1+i) * (((1+i)**n - 1) / (((1+i)**n)*i))\n",
    "    return valor_actual\n",
    "\n",
    "#Recordar que el valor actual vencido me deja a la renta valuada un período antes del momento en el que efectúa el primer pago.\n",
    "def valor_actual_vencido_pagos_constantes(cuota, n, i):\n",
    "    valor_actual = cuota * (((1+i)**n - 1) / (((1+i)**n)*i))\n",
    "    return valor_actual\n",
    "\n",
    "def valor_actual_adelantado_pagos_constantes_perpetua(cuota, i):\n",
    "    valor_actual = (c/i) * (1+i)\n",
    "    return valor_actual\n",
    "\n",
    "def valor_actual_vencido_pagos_constantes_perpetua(cuota, i):\n",
    "    valor_actual = (c/i)\n",
    "    return valor_actual\n",
    "\n",
    "\n",
    "\n",
    "#VALOR FINAL\n",
    "\n",
    "#Recordar que el valor final adelantado me deja a la renta valuada un período después del momento en el que efectúa el último pago.\n",
    "def valor_final_adelantado_pagos_constantes(cuota, n, i):\n",
    "    valor_final = cuota * (1+i) * (((1+i)**n - 1) / i)\n",
    "    return valor_final\n",
    "\n",
    "#Recordar que el valor final vencido me deja a la renta valuada en el mismo período que efectúa el último pago.\n",
    "def valor_final_vencido_pagos_constantes(cuota, n ,i):\n",
    "    valor_final = cuota * (((1+i)**n - 1) / i)\n",
    "    return valor_final\n",
    "    \n",
    "    \n",
    "    \n",
    "    \n",
    "    \n",
    "    \n",
    "    \n",
    "    \n",
    "    "
   ]
  },
  {
   "cell_type": "code",
   "execution_count": null,
   "metadata": {},
   "outputs": [],
   "source": [
    "\n",
    "\n",
    "\n"
   ]
  }
 ],
 "metadata": {
  "kernelspec": {
   "display_name": "Python 3",
   "language": "python",
   "name": "python3"
  },
  "language_info": {
   "codemirror_mode": {
    "name": "ipython",
    "version": 3
   },
   "file_extension": ".py",
   "mimetype": "text/x-python",
   "name": "python",
   "nbconvert_exporter": "python",
   "pygments_lexer": "ipython3",
   "version": "3.7.4"
  }
 },
 "nbformat": 4,
 "nbformat_minor": 2
}
