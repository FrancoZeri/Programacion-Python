{
 "cells": [
  {
   "cell_type": "code",
   "execution_count": 1,
   "metadata": {},
   "outputs": [
    {
     "data": {
      "text/plain": [
       "'aloH'"
      ]
     },
     "execution_count": 1,
     "metadata": {},
     "output_type": "execute_result"
    }
   ],
   "source": [
    "#Definir una función inversa() que calcule la inversión de una cadena. Por ejemplo la cadena \"estoy probando\" debería devolver la cadena \"odnaborp yotse\"\n",
    "def inversa(cadena):\n",
    "    cadena_invertida = \"\"\n",
    "    longitud = len(cadena)\n",
    "    indice = -1\n",
    "    while longitud >= 1:\n",
    "        cadena_invertida += cadena[indice]\n",
    "        indice = indice + (-1)\n",
    "        longitud -= 1\n",
    "    return cadena_invertida \n",
    "\n",
    "inversa(\"Hola\")"
   ]
  },
  {
   "cell_type": "code",
   "execution_count": 2,
   "metadata": {},
   "outputs": [
    {
     "name": "stdout",
     "output_type": "stream",
     "text": [
      "la palabra neuquen es palíndromo\n",
      "El número 222 es capicúa\n",
      "El número 2445 no es capicúa\n"
     ]
    }
   ],
   "source": [
    "#Definir una función que reconoce palíndromos (palabras que tienen el mismo aspecto escritas invertidas), ejemplo: \"radar\" tendría que devolver True.\n",
    "\n",
    "def es_palindromo(x):\n",
    "    if type(x) == str:\n",
    "        cadena_invertida = \"\"\n",
    "        longitud = len(x)\n",
    "        indice = -1\n",
    "        while longitud >= 1:\n",
    "            cadena_invertida += x[indice]\n",
    "            indice -= 1\n",
    "            longitud -= 1\n",
    "        if cadena_invertida == x:\n",
    "            print(\"la palabra \" + x + \" es palíndromo\")\n",
    "        else:\n",
    "            print(\"la palabra \" + x + \" no es palíndromo\")\n",
    "    elif type(x) == int:\n",
    "        numero_invertido = int(str(x)[::-1])\n",
    "        if numero_invertido == x:\n",
    "            print(\"El número \" + str(x) + \" es capicúa\")\n",
    "        else: \n",
    "            print(\"El número \" + str(x) + \" no es capicúa\")\n",
    "    elif type (x) == float: \n",
    "        numero_invertido = float(str(x)[::-1])\n",
    "        if numero_invertido == x:\n",
    "            print(\"El número \" + str(x) + \" es capicúa\")\n",
    "        else: \n",
    "            print(\"El número \" + str(x) + \" no es capicúa\")\n",
    "    else: \n",
    "        print(\"Error en el tipo de dato\")\n",
    " \n",
    "es_palindromo(\"neuquen\")\n",
    "es_palindromo(222)\n",
    "es_palindromo(2445)"
   ]
  },
  {
   "cell_type": "code",
   "execution_count": 3,
   "metadata": {},
   "outputs": [
    {
     "data": {
      "text/plain": [
       "2"
      ]
     },
     "execution_count": 3,
     "metadata": {},
     "output_type": "execute_result"
    }
   ],
   "source": [
    "#Crear una función contar_vocales(), que reciba una palabra y cuente cuantas letras \"a\" tiene, cuantas letras \"e\" tiene y así hasta completar todas las vocales.\n",
    "#Se puede hacer que el usuario sea quien elija la palabra.\n",
    "\n",
    "def contar_vocales(palabra):\n",
    "    q_vocales = 0\n",
    "    for letra in palabra:\n",
    "        if ((letra == \"a\") or (letra == \"e\") or (letra == \"i\") or (letra == \"o\") or (letra == \"u\")):\n",
    "            q_vocales += 1\n",
    "    return q_vocales\n",
    "\n",
    "contar_vocales(\"franco\")"
   ]
  },
  {
   "cell_type": "code",
   "execution_count": null,
   "metadata": {},
   "outputs": [],
   "source": []
  },
  {
   "cell_type": "code",
   "execution_count": null,
   "metadata": {},
   "outputs": [],
   "source": []
  }
 ],
 "metadata": {
  "kernelspec": {
   "display_name": "Python 3",
   "language": "python",
   "name": "python3"
  },
  "language_info": {
   "codemirror_mode": {
    "name": "ipython",
    "version": 3
   },
   "file_extension": ".py",
   "mimetype": "text/x-python",
   "name": "python",
   "nbconvert_exporter": "python",
   "pygments_lexer": "ipython3",
   "version": "3.7.4"
  }
 },
 "nbformat": 4,
 "nbformat_minor": 2
}
