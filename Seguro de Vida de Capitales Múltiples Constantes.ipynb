{
 "cells": [
  {
   "cell_type": "code",
   "execution_count": 1,
   "metadata": {},
   "outputs": [],
   "source": [
    "import pandas as pd, numpy as np"
   ]
  },
  {
   "cell_type": "code",
   "execution_count": 2,
   "metadata": {},
   "outputs": [
    {
     "data": {
      "text/html": [
       "<div>\n",
       "<style scoped>\n",
       "    .dataframe tbody tr th:only-of-type {\n",
       "        vertical-align: middle;\n",
       "    }\n",
       "\n",
       "    .dataframe tbody tr th {\n",
       "        vertical-align: top;\n",
       "    }\n",
       "\n",
       "    .dataframe thead th {\n",
       "        text-align: right;\n",
       "    }\n",
       "</style>\n",
       "<table border=\"1\" class=\"dataframe\">\n",
       "  <thead>\n",
       "    <tr style=\"text-align: right;\">\n",
       "      <th></th>\n",
       "      <th>x</th>\n",
       "      <th>l(x)</th>\n",
       "      <th>d(x)</th>\n",
       "      <th>D(x)</th>\n",
       "      <th>N(x)</th>\n",
       "      <th>S(x)</th>\n",
       "      <th>C(x)</th>\n",
       "      <th>M(x)</th>\n",
       "      <th>R(x)</th>\n",
       "    </tr>\n",
       "  </thead>\n",
       "  <tbody>\n",
       "    <tr>\n",
       "      <td>0</td>\n",
       "      <td>0</td>\n",
       "      <td>10000000</td>\n",
       "      <td>41800</td>\n",
       "      <td>10000000</td>\n",
       "      <td>237830366</td>\n",
       "      <td>5049896161</td>\n",
       "      <td>40192</td>\n",
       "      <td>852677</td>\n",
       "      <td>43603418</td>\n",
       "    </tr>\n",
       "    <tr>\n",
       "      <td>1</td>\n",
       "      <td>1</td>\n",
       "      <td>9958200</td>\n",
       "      <td>10655</td>\n",
       "      <td>9575192</td>\n",
       "      <td>227830366</td>\n",
       "      <td>4812065795</td>\n",
       "      <td>9851</td>\n",
       "      <td>812485</td>\n",
       "      <td>42750741</td>\n",
       "    </tr>\n",
       "    <tr>\n",
       "      <td>2</td>\n",
       "      <td>2</td>\n",
       "      <td>9947545</td>\n",
       "      <td>9848</td>\n",
       "      <td>9197065</td>\n",
       "      <td>218255174</td>\n",
       "      <td>4584235429</td>\n",
       "      <td>8755</td>\n",
       "      <td>802634</td>\n",
       "      <td>41938256</td>\n",
       "    </tr>\n",
       "    <tr>\n",
       "      <td>3</td>\n",
       "      <td>3</td>\n",
       "      <td>9937697</td>\n",
       "      <td>9739</td>\n",
       "      <td>8834576</td>\n",
       "      <td>209058109</td>\n",
       "      <td>4365980255</td>\n",
       "      <td>8325</td>\n",
       "      <td>793879</td>\n",
       "      <td>41135622</td>\n",
       "    </tr>\n",
       "    <tr>\n",
       "      <td>4</td>\n",
       "      <td>4</td>\n",
       "      <td>9927958</td>\n",
       "      <td>9432</td>\n",
       "      <td>8486460</td>\n",
       "      <td>200223533</td>\n",
       "      <td>4156922146</td>\n",
       "      <td>7752</td>\n",
       "      <td>785554</td>\n",
       "      <td>40341743</td>\n",
       "    </tr>\n",
       "  </tbody>\n",
       "</table>\n",
       "</div>"
      ],
      "text/plain": [
       "   x      l(x)   d(x)      D(x)       N(x)        S(x)   C(x)    M(x)  \\\n",
       "0  0  10000000  41800  10000000  237830366  5049896161  40192  852677   \n",
       "1  1   9958200  10655   9575192  227830366  4812065795   9851  812485   \n",
       "2  2   9947545   9848   9197065  218255174  4584235429   8755  802634   \n",
       "3  3   9937697   9739   8834576  209058109  4365980255   8325  793879   \n",
       "4  4   9927958   9432   8486460  200223533  4156922146   7752  785554   \n",
       "\n",
       "       R(x)  \n",
       "0  43603418  \n",
       "1  42750741  \n",
       "2  41938256  \n",
       "3  41135622  \n",
       "4  40341743  "
      ]
     },
     "execution_count": 2,
     "metadata": {},
     "output_type": "execute_result"
    }
   ],
   "source": [
    "tabla = pd.read_csv(\"C:\\\\Users\\\\Franco\\\\Desktop\\\\Python\\\\GITHUB\\\\Tabla CSO80 masculino.csv\")\n",
    "lista_columnas = [\"x\", \"l(x)\", \"d(x)\", \"D(x)\", \"N(x)\", \"S(x)\", \"C(x)\",\\\n",
    "                \"M(x)\", \"R(x)\"]\n",
    "tabla.columns = lista_columnas\n",
    "tabla.head(5)"
   ]
  },
  {
   "cell_type": "code",
   "execution_count": 8,
   "metadata": {},
   "outputs": [],
   "source": [
    "#Seguros de vida de capitales multiples constantes:\n",
    "#teniendo en cuenta que para la tabla w=100 (edad que nadie alcanza con vida)\n",
    "#x = edad\n",
    "#h = plazo de diferimiento\n",
    "#plazo = plazo de cobertura o cantidad de pagos probables.\n",
    "\n",
    "def svcm_constante(tabla, x, capital_asegurado, h, plazo):\n",
    "    if plazo == \"limitado\": #sería plazo limitado\n",
    "        n = int(input(\"Introduzca el plazo de cobertura: \"))\n",
    "        ppu = capital_asegurado * ((tabla.at[x+h,\"N(x)\"] - tabla.at[x+h+n,\"N(x)\"] )/ tabla.at[x,\"D(x)\"])\n",
    "        print(\"La Prima Pura Única es igual a \" + str(ppu))            \n",
    "        \n",
    "        #para calcular la PPA, contemplamos el período de pago de primas, lo llamo n2.\n",
    "        #recordar que cuando es riesgo diferido, las primas se abonan durante el período de diferimiento, por lo tanto\n",
    "        # el h no afecta a mis fórmulas.\n",
    "        n2 = int(input(\"Introduzca la cantidad de primas a abonar: \"))\n",
    "        ppa = ppu / ((tabla.at[x,\"N(x)\"] - tabla.at[x+n2,\"N(x)\"] )/ tabla.at[x,\"D(x)\"])\n",
    "        print(\"La prima Pura Anual es igual a \" + str(ppa))\n",
    "        \n",
    "        \n",
    "    else: #seria sin limite\n",
    "        ppu = capital_asegurado * ((tabla.at[x+h,\"N(x)\"])/ tabla.at[x,\"D(x)\"])\n",
    "        print(\"La Prima Pura Única es igual a \" + str(ppu))\n",
    "        \n",
    "        #para calcular la PPA, contemplamos el período de pago de primas, lo llamo n2.\n",
    "        #recordar que cuando es riesgo diferido, las primas se abonan durante el período de diferimiento, por lo tanto\n",
    "        # el h no afecta a mis fórmulas.\n",
    "        n2 = int(input(\"Introduzca la cantidad de primas a abonar: \"))\n",
    "        ppa = ppu / ((tabla.at[x,\"N(x)\"] - tabla.at[x+n2,\"N(x)\"] )/ tabla.at[x,\"D(x)\"])\n",
    "        print(\"La prima Pura Anual es igual a \" + str(ppa))\n",
    "        \n",
    "            "
   ]
  },
  {
   "cell_type": "code",
   "execution_count": 10,
   "metadata": {},
   "outputs": [
    {
     "name": "stdout",
     "output_type": "stream",
     "text": [
      "La Prima Pura Única es igual a 11236.804634295499\n",
      "Introduzca la cantidad de primas a abonar: 10\n",
      "La prima Pura Anual es igual a 1346.4067843874363\n"
     ]
    }
   ],
   "source": [
    "svcm_constante(tabla = tabla, x = 35, capital_asegurado = 1000, h = 10, plazo = \"ilimitado\")"
   ]
  }
 ],
 "metadata": {
  "kernelspec": {
   "display_name": "Python 3",
   "language": "python",
   "name": "python3"
  },
  "language_info": {
   "codemirror_mode": {
    "name": "ipython",
    "version": 3
   },
   "file_extension": ".py",
   "mimetype": "text/x-python",
   "name": "python",
   "nbconvert_exporter": "python",
   "pygments_lexer": "ipython3",
   "version": "3.7.4"
  }
 },
 "nbformat": 4,
 "nbformat_minor": 2
}
