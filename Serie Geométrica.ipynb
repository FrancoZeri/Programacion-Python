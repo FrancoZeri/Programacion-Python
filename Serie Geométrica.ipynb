{
 "cells": [
  {
   "cell_type": "code",
   "execution_count": null,
   "metadata": {},
   "outputs": [],
   "source": [
    "#Cálculo de una serie geométrica."
   ]
  },
  {
   "cell_type": "code",
   "execution_count": 2,
   "metadata": {},
   "outputs": [],
   "source": [
    "def serie_geométrica(razon):\n",
    "    lim_inf = int(input(\"Indique el limite inferior de la sumatoria: \"))\n",
    "    lim_sup = int(input(\"Indique el limite superior de la sumatoria: \"))\n",
    "    if lim_inf == 0:\n",
    "        if abs(razon) < 1:\n",
    "            valor_serie = ((1 - ((razon)**(lim_sup + 1))) / (1 - razon))\n",
    "        else: \n",
    "            valor_serie = ((((razon)**(lim_sup + 1)) - 1) / (razon - 1))\n",
    "    else:\n",
    "        if abs(razon) < 1:\n",
    "            valor_serie = (razon**lim_inf) * ((1 - ((razon)**(lim_sup - lim_inf + 1))) / (1 - razon))\n",
    "        else:\n",
    "            valor_serie = (razon**lim_inf) * ((((razon)**(lim_sup - lim_inf + 1)) - 1) / (razon - 1))\n",
    "    return valor_serie\n",
    "\n",
    "            \n",
    "            \n",
    "            \n",
    "            \n",
    "            "
   ]
  },
  {
   "cell_type": "code",
   "execution_count": null,
   "metadata": {},
   "outputs": [],
   "source": []
  }
 ],
 "metadata": {
  "kernelspec": {
   "display_name": "Python 3",
   "language": "python",
   "name": "python3"
  },
  "language_info": {
   "codemirror_mode": {
    "name": "ipython",
    "version": 3
   },
   "file_extension": ".py",
   "mimetype": "text/x-python",
   "name": "python",
   "nbconvert_exporter": "python",
   "pygments_lexer": "ipython3",
   "version": "3.7.4"
  }
 },
 "nbformat": 4,
 "nbformat_minor": 2
}
